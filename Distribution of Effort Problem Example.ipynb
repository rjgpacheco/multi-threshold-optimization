{
 "cells": [
  {
   "cell_type": "code",
   "execution_count": 1,
   "metadata": {},
   "outputs": [],
   "source": [
    "import pandas as pd"
   ]
  },
  {
   "cell_type": "code",
   "execution_count": 10,
   "metadata": {},
   "outputs": [
    {
     "data": {
      "text/html": [
       "<div>\n",
       "<style scoped>\n",
       "    .dataframe tbody tr th:only-of-type {\n",
       "        vertical-align: middle;\n",
       "    }\n",
       "\n",
       "    .dataframe tbody tr th {\n",
       "        vertical-align: top;\n",
       "    }\n",
       "\n",
       "    .dataframe thead th {\n",
       "        text-align: right;\n",
       "    }\n",
       "</style>\n",
       "<table border=\"1\" class=\"dataframe\">\n",
       "  <thead>\n",
       "    <tr style=\"text-align: right;\">\n",
       "      <th></th>\n",
       "      <th>1</th>\n",
       "      <th>2</th>\n",
       "      <th>3</th>\n",
       "    </tr>\n",
       "  </thead>\n",
       "  <tbody>\n",
       "    <tr>\n",
       "      <th>0</th>\n",
       "      <td>0</td>\n",
       "      <td>0</td>\n",
       "      <td>0</td>\n",
       "    </tr>\n",
       "    <tr>\n",
       "      <th>1</th>\n",
       "      <td>45</td>\n",
       "      <td>20</td>\n",
       "      <td>50</td>\n",
       "    </tr>\n",
       "    <tr>\n",
       "      <th>2</th>\n",
       "      <td>70</td>\n",
       "      <td>45</td>\n",
       "      <td>70</td>\n",
       "    </tr>\n",
       "    <tr>\n",
       "      <th>3</th>\n",
       "      <td>90</td>\n",
       "      <td>75</td>\n",
       "      <td>80</td>\n",
       "    </tr>\n",
       "    <tr>\n",
       "      <th>4</th>\n",
       "      <td>105</td>\n",
       "      <td>110</td>\n",
       "      <td>100</td>\n",
       "    </tr>\n",
       "    <tr>\n",
       "      <th>5</th>\n",
       "      <td>120</td>\n",
       "      <td>150</td>\n",
       "      <td>130</td>\n",
       "    </tr>\n",
       "  </tbody>\n",
       "</table>\n",
       "</div>"
      ],
      "text/plain": [
       "     1    2    3\n",
       "0    0    0    0\n",
       "1   45   20   50\n",
       "2   70   45   70\n",
       "3   90   75   80\n",
       "4  105  110  100\n",
       "5  120  150  130"
      ]
     },
     "execution_count": 10,
     "metadata": {},
     "output_type": "execute_result"
    }
   ],
   "source": [
    "df = pd.DataFrame([\n",
    "    [  0,  0,  0],\n",
    "    [ 45, 20, 50],\n",
    "    [ 70, 45, 70],\n",
    "    [ 90, 75, 80],\n",
    "    [105,110,100],\n",
    "    [120,150,130]\n",
    "], columns=[1, 2, 3])\n",
    "\n",
    "df"
   ]
  },
  {
   "cell_type": "code",
   "execution_count": 14,
   "metadata": {},
   "outputs": [
    {
     "data": {
      "text/plain": [
       "110"
      ]
     },
     "execution_count": 14,
     "metadata": {},
     "output_type": "execute_result"
    }
   ],
   "source": [
    "df.loc[4][2] # 4 equipas para o país 2"
   ]
  },
  {
   "cell_type": "code",
   "execution_count": 6,
   "metadata": {},
   "outputs": [],
   "source": [
    "N = 3"
   ]
  },
  {
   "cell_type": "code",
   "execution_count": 102,
   "metadata": {},
   "outputs": [],
   "source": [
    "MAX_CAPACITY = 5"
   ]
  },
  {
   "cell_type": "code",
   "execution_count": 40,
   "metadata": {},
   "outputs": [
    {
     "name": "stdout",
     "output_type": "stream",
     "text": [
      "s3 \t f3*(s3) \t x3*\n",
      " 0 \t       0 \t   0\n",
      " 1 \t      50 \t   1\n",
      " 2 \t      70 \t   2\n",
      " 3 \t      80 \t   3\n",
      " 4 \t     100 \t   4\n",
      " 5 \t     130 \t   5\n"
     ]
    }
   ],
   "source": [
    "# Começar com n=3\n",
    "\n",
    "n = 3\n",
    "\n",
    "possible_s3 = []\n",
    "print('s3 \\t f3*(s3) \\t x3*')\n",
    "for i in range(max_sum_x+1):\n",
    "    s3 = i\n",
    "    l2 = df.loc[i][n]\n",
    "    x3 = i\n",
    "    \n",
    "    possible_s3.append(s3)\n",
    "    \n",
    "    print(\"{:>2} \\t {:>7} \\t {:>3}\".format(s3, l2, x3))\n",
    "    \n",
    "    \n",
    "\n"
   ]
  },
  {
   "cell_type": "code",
   "execution_count": 41,
   "metadata": {},
   "outputs": [
    {
     "data": {
      "text/plain": [
       "[0, 1, 2, 3, 4, 5]"
      ]
     },
     "execution_count": 41,
     "metadata": {},
     "output_type": "execute_result"
    }
   ],
   "source": [
    "possible_s3"
   ]
  },
  {
   "cell_type": "code",
   "execution_count": 46,
   "metadata": {},
   "outputs": [
    {
     "name": "stdout",
     "output_type": "stream",
     "text": [
      "0 [0, 1, 2, 3, 4, 5]\n",
      "1 [0, 1, 2, 3, 4]\n",
      "2 [0, 1, 2, 3]\n",
      "3 [0, 1, 2]\n",
      "4 [0, 1]\n",
      "5 [0]\n"
     ]
    }
   ],
   "source": [
    "for s3 in possible_s3:\n",
    "    possible_s2 = range(max_sum_x - s3 + 1)\n",
    "    print(s3, list(possible_s2))\n",
    "\n",
    "    \n",
    "for s3 in possible_s3:\n",
    "    possible_s2 = range(max_sum_x - s3 + 1)\n",
    "    print(s3, list(possible_s2))\n"
   ]
  },
  {
   "cell_type": "code",
   "execution_count": 52,
   "metadata": {},
   "outputs": [],
   "source": [
    "def pi(teams=None, stage=None):\n",
    "    # Allocate xi teams to pi country\n",
    "    return df.loc[teams][stage]"
   ]
  },
  {
   "cell_type": "code",
   "execution_count": 78,
   "metadata": {},
   "outputs": [],
   "source": [
    "def fstar(stage=None, sn=None):\n",
    "    return df.iloc[sn][stage]\n",
    "\n",
    "def f(n=None, available=None, allocate=None):\n",
    "    # n === stage\n",
    "    # available === s_n\n",
    "    # allocate === x_n\n",
    "    \n",
    "    #p(stage=n-1) + f(n=n+1, )\n",
    "    return None\n",
    "    \n",
    "    \n",
    "def f3star(s3):\n",
    "    return df.iloc[s3][3]\n",
    "    "
   ]
  },
  {
   "cell_type": "code",
   "execution_count": 68,
   "metadata": {},
   "outputs": [
    {
     "data": {
      "text/plain": [
       "130"
      ]
     },
     "execution_count": 68,
     "metadata": {},
     "output_type": "execute_result"
    }
   ],
   "source": [
    "fstar(stage=3, sn=5)"
   ]
  },
  {
   "cell_type": "code",
   "execution_count": 69,
   "metadata": {},
   "outputs": [
    {
     "ename": "SyntaxError",
     "evalue": "can't assign to function call (<ipython-input-69-d5886e41d8bf>, line 1)",
     "output_type": "error",
     "traceback": [
      "\u001b[0;36m  File \u001b[0;32m\"<ipython-input-69-d5886e41d8bf>\"\u001b[0;36m, line \u001b[0;32m1\u001b[0m\n\u001b[0;31m    f2(s2, x2) = p2(x2) + f*3(s2 - x2)\u001b[0m\n\u001b[0m                                      ^\u001b[0m\n\u001b[0;31mSyntaxError\u001b[0m\u001b[0;31m:\u001b[0m can't assign to function call\n"
     ]
    }
   ],
   "source": [
    "f2(s2, x2) = p2(x2) + f*3(s2 - x2)"
   ]
  },
  {
   "cell_type": "code",
   "execution_count": 73,
   "metadata": {},
   "outputs": [],
   "source": [
    "def p2(x2):\n",
    "    if x2 == 0:\n",
    "        return 0\n",
    "    return df.loc[x2][2] "
   ]
  },
  {
   "cell_type": "code",
   "execution_count": 74,
   "metadata": {},
   "outputs": [
    {
     "ename": "NameError",
     "evalue": "name 'sn' is not defined",
     "output_type": "error",
     "traceback": [
      "\u001b[0;31m---------------------------------------------------------------------------\u001b[0m",
      "\u001b[0;31mNameError\u001b[0m                                 Traceback (most recent call last)",
      "\u001b[0;32m<ipython-input-74-31f784e2c086>\u001b[0m in \u001b[0;36m<module>\u001b[0;34m()\u001b[0m\n\u001b[0;32m----> 1\u001b[0;31m \u001b[0mf\u001b[0m\u001b[0;34m(\u001b[0m\u001b[0msn\u001b[0m\u001b[0;34m)\u001b[0m\u001b[0;34m\u001b[0m\u001b[0;34m\u001b[0m\u001b[0m\n\u001b[0m",
      "\u001b[0;31mNameError\u001b[0m: name 'sn' is not defined"
     ]
    }
   ],
   "source": [
    "f(sn)"
   ]
  },
  {
   "cell_type": "code",
   "execution_count": 91,
   "metadata": {
    "scrolled": true
   },
   "outputs": [
    {
     "name": "stdout",
     "output_type": "stream",
     "text": [
      "70\n",
      "70\n",
      "45\n"
     ]
    }
   ],
   "source": [
    "x2 = 0; print(p2(0) + f3star(2 - x2))\n",
    "x2 = 1; print(p2(1) + f3star(2 - x2))\n",
    "x2 = 2; print(p2(2) + f3star(2 - x2))"
   ]
  },
  {
   "cell_type": "raw",
   "metadata": {},
   "source": []
  },
  {
   "cell_type": "raw",
   "metadata": {},
   "source": [
    "for s2 in range(5 + 1):\n",
    "    for x2 in range(MAX_CAPACITY - s2 + 1):\n",
    "        objective = p2(x2) + f3star(s2 - x2)\n",
    "        print(\"s2 = {s2}, x2 = {x2}, f2({s2},{x2}) = {objective:>3}\".format(**{\n",
    "            \"x2\":x2, \"s2\": s3, \"objective\": objective}))\n",
    "\n",
    "\n"
   ]
  },
  {
   "cell_type": "code",
   "execution_count": 105,
   "metadata": {},
   "outputs": [
    {
     "name": "stdout",
     "output_type": "stream",
     "text": [
      "s2 = 5, x2 = 0, f2(5,0) =   0\n",
      "s2 = 5, x2 = 1, f2(5,1) = 150\n",
      "s2 = 5, x2 = 2, f2(5,2) = 145\n",
      "s2 = 5, x2 = 3, f2(5,3) = 155\n",
      "s2 = 5, x2 = 4, f2(5,4) = 180\n",
      "s2 = 5, x2 = 5, f2(5,5) = 200\n",
      "s2 = 5, x2 = 0, f2(5,0) =  50\n",
      "s2 = 5, x2 = 1, f2(5,1) =  20\n",
      "s2 = 5, x2 = 2, f2(5,2) = 175\n",
      "s2 = 5, x2 = 3, f2(5,3) = 175\n",
      "s2 = 5, x2 = 4, f2(5,4) = 190\n",
      "s2 = 5, x2 = 0, f2(5,0) =  70\n",
      "s2 = 5, x2 = 1, f2(5,1) =  70\n",
      "s2 = 5, x2 = 2, f2(5,2) =  45\n",
      "s2 = 5, x2 = 3, f2(5,3) = 205\n",
      "s2 = 5, x2 = 0, f2(5,0) =  80\n",
      "s2 = 5, x2 = 1, f2(5,1) =  90\n",
      "s2 = 5, x2 = 2, f2(5,2) =  95\n",
      "s2 = 5, x2 = 0, f2(5,0) = 100\n",
      "s2 = 5, x2 = 1, f2(5,1) = 100\n",
      "s2 = 5, x2 = 0, f2(5,0) = 130\n"
     ]
    }
   ],
   "source": [
    "for s2 in range(5 + 1):\n",
    "    for x2 in range(MAX_CAPACITY - s2 + 1):\n",
    "        objective = p2(x2) + f3star(s2 - x2)\n",
    "        print(\"s2 = {s2}, x2 = {x2}, f2({s2},{x2}) = {objective:>3}\".format(**{\n",
    "            \"x2\":x2, \"s2\": s3, \"objective\": objective}))\n",
    "\n",
    "\n"
   ]
  },
  {
   "cell_type": "code",
   "execution_count": null,
   "metadata": {},
   "outputs": [],
   "source": []
  }
 ],
 "metadata": {
  "kernelspec": {
   "display_name": "Python 3",
   "language": "python",
   "name": "python3"
  },
  "language_info": {
   "codemirror_mode": {
    "name": "ipython",
    "version": 3
   },
   "file_extension": ".py",
   "mimetype": "text/x-python",
   "name": "python",
   "nbconvert_exporter": "python",
   "pygments_lexer": "ipython3",
   "version": "3.6.8"
  }
 },
 "nbformat": 4,
 "nbformat_minor": 2
}
