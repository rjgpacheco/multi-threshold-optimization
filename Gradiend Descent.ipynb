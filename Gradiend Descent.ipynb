{
 "cells": [
  {
   "cell_type": "code",
   "execution_count": 157,
   "metadata": {},
   "outputs": [],
   "source": [
    "import pandas as pd\n",
    "import scipy as sp\n",
    "from scipy import stats\n",
    "import seaborn as sns\n",
    "import random\n",
    "import numpy as np\n",
    "\n",
    "from numpy.polynomial.polynomial import polyval\n",
    "import math\n",
    "sns.set(color_codes=True)\n",
    "sns.set(rc={'figure.figsize':(15,9)})"
   ]
  },
  {
   "cell_type": "code",
   "execution_count": 45,
   "metadata": {},
   "outputs": [],
   "source": [
    "n = 2"
   ]
  },
  {
   "cell_type": "code",
   "execution_count": 46,
   "metadata": {},
   "outputs": [
    {
     "data": {
      "text/plain": [
       "6"
      ]
     },
     "execution_count": 46,
     "metadata": {},
     "output_type": "execute_result"
    }
   ],
   "source": [
    "random.randint(0,10)"
   ]
  },
  {
   "cell_type": "code",
   "execution_count": 285,
   "metadata": {},
   "outputs": [
    {
     "name": "stdout",
     "output_type": "stream",
     "text": [
      "[0.04, -0.03, 0.04]\n"
     ]
    }
   ],
   "source": [
    "p = [random.randint(-5,5) for _ in range(random.randint(3,3))]\n",
    "p = [x/100 for x in p]\n",
    "print(p)"
   ]
  },
  {
   "cell_type": "code",
   "execution_count": 286,
   "metadata": {
    "scrolled": false
   },
   "outputs": [
    {
     "data": {
      "image/png": "[encoded data removed]",
      "text/plain": [
       "<Figure size 1080x648 with 1 Axes>"
      ]
     },
     "metadata": {},
     "output_type": "display_data"
    }
   ],
   "source": [
    "x = np.linspace(-10,10,100)\n",
    "y = polyval(x, p)\n",
    "\n",
    "sns.set()\n",
    "ax = sns.lineplot(x, y, color='skyblue', linewidth=2.5)"
   ]
  },
  {
   "cell_type": "code",
   "execution_count": 262,
   "metadata": {},
   "outputs": [
    {
     "data": {
      "text/plain": [
       "[-0.02, -0.05, 0.03]"
      ]
     },
     "execution_count": 262,
     "metadata": {},
     "output_type": "execute_result"
    }
   ],
   "source": [
    "p"
   ]
  },
  {
   "cell_type": "code",
   "execution_count": 263,
   "metadata": {},
   "outputs": [],
   "source": [
    "f = lambda x: polyval(x, p)"
   ]
  },
  {
   "cell_type": "code",
   "execution_count": 264,
   "metadata": {},
   "outputs": [],
   "source": [
    "dx = 0.1"
   ]
  },
  {
   "cell_type": "code",
   "execution_count": 265,
   "metadata": {},
   "outputs": [],
   "source": [
    "e = math.inf"
   ]
  },
  {
   "cell_type": "code",
   "execution_count": 266,
   "metadata": {},
   "outputs": [],
   "source": [
    "eps = 0.01"
   ]
  },
  {
   "cell_type": "code",
   "execution_count": 288,
   "metadata": {},
   "outputs": [
    {
     "name": "stdout",
     "output_type": "stream",
     "text": [
      "Iterations: 403\n",
      "e  = 0.0\n",
      "x* = -147762253174372.6\n"
     ]
    }
   ],
   "source": [
    "e = math.inf\n",
    "eps = 0.01\n",
    "\n",
    "x0 = -5\n",
    "dx = .01\n",
    "\n",
    "learning_rate = 1\n",
    "\n",
    "\n",
    "x = x0\n",
    "loop_counter = 0\n",
    "while e > eps:\n",
    "    loop_counter = loop_counter + 1\n",
    "    if loop_counter > 10000:\n",
    "        print(1)\n",
    "        break\n",
    "    # Calculate gradiend\n",
    "    df = f(x + dx) - f(x - dx)\n",
    "    df = df/(2*dx)\n",
    "    \n",
    "    new_x = x + learning_rate*df\n",
    "    e = abs(x - new_x)\n",
    "    x = new_x\n",
    "    \n",
    "    \n",
    "    \n",
    "print(\"Iterations: {}\".format(loop_counter))\n",
    "print(\"e  = {}\".format(e))\n",
    "print(\"x* = {}\".format(x))\n",
    "        \n"
   ]
  },
  {
   "cell_type": "code",
   "execution_count": 268,
   "metadata": {},
   "outputs": [
    {
     "data": {
      "text/plain": [
       "0.0"
      ]
     },
     "execution_count": 268,
     "metadata": {},
     "output_type": "execute_result"
    }
   ],
   "source": [
    "f(x + dx) - f(x - dx)"
   ]
  },
  {
   "cell_type": "code",
   "execution_count": 269,
   "metadata": {},
   "outputs": [
    {
     "data": {
      "text/plain": [
       "531"
      ]
     },
     "execution_count": 269,
     "metadata": {},
     "output_type": "execute_result"
    }
   ],
   "source": [
    "loop_counter"
   ]
  },
  {
   "cell_type": "code",
   "execution_count": 270,
   "metadata": {},
   "outputs": [
    {
     "data": {
      "text/plain": [
       "-144076285599684.06"
      ]
     },
     "execution_count": 270,
     "metadata": {},
     "output_type": "execute_result"
    }
   ],
   "source": [
    "new_x"
   ]
  },
  {
   "cell_type": "code",
   "execution_count": 271,
   "metadata": {},
   "outputs": [
    {
     "data": {
      "text/plain": [
       "-144076285599684.06"
      ]
     },
     "execution_count": 271,
     "metadata": {},
     "output_type": "execute_result"
    }
   ],
   "source": [
    "x"
   ]
  },
  {
   "cell_type": "code",
   "execution_count": 272,
   "metadata": {},
   "outputs": [
    {
     "data": {
      "text/plain": [
       "-144076285599684.06"
      ]
     },
     "execution_count": 272,
     "metadata": {},
     "output_type": "execute_result"
    }
   ],
   "source": [
    "new_x"
   ]
  },
  {
   "cell_type": "code",
   "execution_count": 273,
   "metadata": {},
   "outputs": [
    {
     "data": {
      "text/plain": [
       "0.3021785906401291"
      ]
     },
     "execution_count": 273,
     "metadata": {},
     "output_type": "execute_result"
    }
   ],
   "source": [
    "2247/7436"
   ]
  },
  {
   "cell_type": "code",
   "execution_count": 289,
   "metadata": {
    "scrolled": true
   },
   "outputs": [
    {
     "name": "stdout",
     "output_type": "stream",
     "text": [
      "Current point: x = -500\n",
      "Gradient at the point: df = -40.02995999871928\n",
      "New point: x = -459.9700400012807\n",
      "Error at this point: e = 40.02995999871928\n",
      "\n",
      "Current point: x = -459.9700400012807\n",
      "Gradient at the point: df = -36.827563199040014\n",
      "New point: x = -423.1424768022407\n",
      "Error at this point: e = 36.827563199040014\n",
      "\n",
      "Current point: x = -423.1424768022407\n",
      "Gradient at the point: df = -33.881358142934914\n",
      "New point: x = -389.2611186593058\n",
      "Error at this point: e = 33.881358142934914\n",
      "\n",
      "Current point: x = -389.2611186593058\n",
      "Gradient at the point: df = -31.1708494919003\n",
      "New point: x = -358.0902691674055\n",
      "Error at this point: e = 31.1708494919003\n",
      "\n",
      "Current point: x = -358.0902691674055\n",
      "Gradient at the point: df = -28.67718153174792\n",
      "New point: x = -329.4130876356576\n",
      "Error at this point: e = 28.67718153174792\n",
      "\n",
      "Current point: x = -329.4130876356576\n",
      "Gradient at the point: df = -26.383007010736037\n",
      "New point: x = -303.03008062492154\n",
      "Error at this point: e = 26.383007010736037\n",
      "\n",
      "Current point: x = -303.03008062492154\n",
      "Gradient at the point: df = -24.272366449167748\n",
      "New point: x = -278.7577141757538\n",
      "Error at this point: e = 24.272366449167748\n",
      "\n",
      "Current point: x = -278.7577141757538\n",
      "Gradient at the point: df = -22.330577133288898\n",
      "New point: x = -256.4271370424649\n",
      "Error at this point: e = 22.330577133288898\n",
      "\n",
      "Current point: x = -256.4271370424649\n",
      "Gradient at the point: df = -20.544130962662166\n",
      "New point: x = -235.88300607980273\n",
      "Error at this point: e = 20.544130962662166\n",
      "\n",
      "Current point: x = -235.88300607980273\n",
      "Gradient at the point: df = -18.9006004861767\n",
      "New point: x = -216.98240559362603\n",
      "Error at this point: e = 18.9006004861767\n",
      "\n",
      "Current point: x = -216.98240559362603\n",
      "Gradient at the point: df = -17.388552447528127\n",
      "New point: x = -199.5938531460979\n",
      "Error at this point: e = 17.388552447528127\n",
      "\n",
      "Current point: x = -199.5938531460979\n",
      "Gradient at the point: df = -15.99746825195325\n",
      "New point: x = -183.59638489414465\n",
      "Error at this point: e = 15.99746825195325\n",
      "\n",
      "Current point: x = -183.59638489414465\n",
      "Gradient at the point: df = -14.717670791696946\n",
      "New point: x = -168.8787141024477\n",
      "Error at this point: e = 14.717670791696946\n",
      "\n",
      "Current point: x = -168.8787141024477\n",
      "Gradient at the point: df = -13.54025712839757\n",
      "New point: x = -155.33845697405013\n",
      "Error at this point: e = 13.54025712839757\n",
      "\n",
      "Current point: x = -155.33845697405013\n",
      "Gradient at the point: df = -12.457036557975698\n",
      "New point: x = -142.88142041607443\n",
      "Error at this point: e = 12.457036557975698\n",
      "\n",
      "Current point: x = -142.88142041607443\n",
      "Gradient at the point: df = -11.460473633292168\n",
      "New point: x = -131.42094678278227\n",
      "Error at this point: e = 11.460473633292168\n",
      "\n",
      "Current point: x = -131.42094678278227\n",
      "Gradient at the point: df = -10.543635742692459\n",
      "New point: x = -120.87731104008981\n",
      "Error at this point: e = 10.543635742692459\n",
      "\n",
      "Current point: x = -120.87731104008981\n",
      "Gradient at the point: df = -9.700144883254325\n",
      "New point: x = -111.17716615683548\n",
      "Error at this point: e = 9.700144883254325\n",
      "\n",
      "Current point: x = -111.17716615683548\n",
      "Gradient at the point: df = -8.924133292566694\n",
      "New point: x = -102.25303286426879\n",
      "Error at this point: e = 8.924133292566694\n",
      "\n",
      "Current point: x = -102.25303286426879\n",
      "Gradient at the point: df = -8.21020262918637\n",
      "New point: x = -94.04283023508242\n",
      "Error at this point: e = 8.21020262918637\n",
      "\n",
      "Current point: x = -94.04283023508242\n",
      "Gradient at the point: df = -7.553386418862829\n",
      "New point: x = -86.48944381621959\n",
      "Error at this point: e = 7.553386418862829\n",
      "\n",
      "Current point: x = -86.48944381621959\n",
      "Gradient at the point: df = -6.949115505335612\n",
      "New point: x = -79.54032831088398\n",
      "Error at this point: e = 6.949115505335612\n",
      "\n",
      "Current point: x = -79.54032831088398\n",
      "Gradient at the point: df = -6.393186264915585\n",
      "New point: x = -73.1471420459684\n",
      "Error at this point: e = 6.393186264915585\n",
      "\n",
      "Current point: x = -73.1471420459684\n",
      "Gradient at the point: df = -5.881731363729159\n",
      "New point: x = -67.26541068223924\n",
      "Error at this point: e = 5.881731363729159\n",
      "\n",
      "Current point: x = -67.26541068223924\n",
      "Gradient at the point: df = -5.411192854609226\n",
      "New point: x = -61.85421782763001\n",
      "Error at this point: e = 5.411192854609226\n",
      "\n",
      "Current point: x = -61.85421782763001\n",
      "Gradient at the point: df = -4.978297426191602\n",
      "New point: x = -56.87592040143841\n",
      "Error at this point: e = 4.978297426191602\n",
      "\n",
      "Current point: x = -56.87592040143841\n",
      "Gradient at the point: df = -4.580033632095137\n",
      "New point: x = -52.29588676934327\n",
      "Error at this point: e = 4.580033632095137\n",
      "\n",
      "Current point: x = -52.29588676934327\n",
      "Gradient at the point: df = -4.2136309415354845\n",
      "New point: x = -48.082255827807785\n",
      "Error at this point: e = 4.2136309415354845\n",
      "\n",
      "Current point: x = -48.082255827807785\n",
      "Gradient at the point: df = -3.8765404662086667\n",
      "New point: x = -44.20571536159912\n",
      "Error at this point: e = 3.8765404662086667\n",
      "\n",
      "Current point: x = -44.20571536159912\n",
      "Gradient at the point: df = -3.566417228924479\n",
      "New point: x = -40.63929813267464\n",
      "Error at this point: e = 3.566417228924479\n",
      "\n",
      "Current point: x = -40.63929813267464\n",
      "Gradient at the point: df = -3.281103850611089\n",
      "New point: x = -37.35819428206355\n",
      "Error at this point: e = 3.281103850611089\n",
      "\n",
      "Current point: x = -37.35819428206355\n",
      "Gradient at the point: df = -3.0186155425511174\n",
      "New point: x = -34.33957873951243\n",
      "Error at this point: e = 3.0186155425511174\n",
      "\n",
      "Current point: x = -34.33957873951243\n",
      "Gradient at the point: df = -2.777126299150723\n",
      "New point: x = -31.56245244036171\n",
      "Error at this point: e = 2.777126299150723\n",
      "\n",
      "Current point: x = -31.56245244036171\n",
      "Gradient at the point: df = -2.55495619523316\n",
      "New point: x = -29.00749624512855\n",
      "Error at this point: e = 2.55495619523316\n",
      "\n",
      "Current point: x = -29.00749624512855\n",
      "Gradient at the point: df = -2.3505596996145073\n",
      "New point: x = -26.656936545514043\n",
      "Error at this point: e = 2.3505596996145073\n",
      "\n",
      "Current point: x = -26.656936545514043\n",
      "Gradient at the point: df = -2.1625149236434993\n",
      "New point: x = -24.494421621870544\n",
      "Error at this point: e = 2.1625149236434993\n",
      "\n",
      "Current point: x = -24.494421621870544\n",
      "Gradient at the point: df = -1.989513729750314\n",
      "New point: x = -22.50490789212023\n",
      "Error at this point: e = 1.989513729750314\n",
      "\n",
      "Current point: x = -22.50490789212023\n",
      "Gradient at the point: df = -1.8303526313694363\n",
      "New point: x = -20.674555260750793\n",
      "Error at this point: e = 1.8303526313694363\n",
      "\n",
      "Current point: x = -20.674555260750793\n",
      "Gradient at the point: df = -1.6839244208597393\n",
      "New point: x = -18.990630839891054\n",
      "Error at this point: e = 1.6839244208597393\n",
      "\n",
      "Current point: x = -18.990630839891054\n",
      "Gradient at the point: df = -1.5492104671928075\n",
      "New point: x = -17.441420372698246\n",
      "Error at this point: e = 1.5492104671928075\n",
      "\n",
      "Current point: x = -17.441420372698246\n",
      "Gradient at the point: df = -1.4252736298168145\n",
      "New point: x = -16.016146742881432\n",
      "Error at this point: e = 1.4252736298168145\n",
      "\n",
      "Current point: x = -16.016146742881432\n",
      "Gradient at the point: df = -1.311251739432251\n",
      "New point: x = -14.704895003449181\n",
      "Error at this point: e = 1.311251739432251\n",
      "\n",
      "Current point: x = -14.704895003449181\n",
      "Gradient at the point: df = -1.2063516002758234\n",
      "New point: x = -13.498543403173358\n",
      "Error at this point: e = 1.2063516002758234\n",
      "\n",
      "Current point: x = -13.498543403173358\n",
      "Gradient at the point: df = -1.1098434722525141\n",
      "New point: x = -12.388699930920843\n",
      "Error at this point: e = 1.1098434722525141\n",
      "\n",
      "Current point: x = -12.388699930920843\n",
      "Gradient at the point: df = -1.021055994473663\n",
      "New point: x = -11.36764393644718\n",
      "Error at this point: e = 1.021055994473663\n",
      "\n",
      "Current point: x = -11.36764393644718\n",
      "Gradient at the point: df = -0.9393715149164095\n",
      "New point: x = -10.428272421530771\n",
      "Error at this point: e = 0.9393715149164095\n",
      "\n",
      "Current point: x = -10.428272421530771\n",
      "Gradient at the point: df = -0.8642217937220309\n",
      "New point: x = -9.56405062780874\n",
      "Error at this point: e = 0.8642217937220309\n",
      "\n",
      "Current point: x = -9.56405062780874\n",
      "Gradient at the point: df = -0.7950840502246592\n",
      "New point: x = -8.76896657758408\n",
      "Error at this point: e = 0.7950840502246592\n",
      "\n",
      "Current point: x = -8.76896657758408\n",
      "Gradient at the point: df = -0.7314773262070418\n",
      "New point: x = -8.037489251377039\n",
      "Error at this point: e = 0.7314773262070418\n",
      "\n",
      "Current point: x = -8.037489251377039\n",
      "Gradient at the point: df = -0.6729591401102297\n",
      "New point: x = -7.364530111266809\n",
      "Error at this point: e = 0.6729591401102297\n",
      "\n",
      "Current point: x = -7.364530111266809\n",
      "Gradient at the point: df = -0.6191224089020508\n",
      "New point: x = -6.7454077023647585\n",
      "Error at this point: e = 0.6191224089020508\n",
      "\n",
      "Current point: x = -6.7454077023647585\n",
      "Gradient at the point: df = -0.569592616189496\n",
      "New point: x = -6.1758150861752625\n",
      "Error at this point: e = 0.569592616189496\n",
      "\n",
      "Current point: x = -6.1758150861752625\n",
      "Gradient at the point: df = -0.5240252068943185\n",
      "New point: x = -5.651789879280944\n",
      "Error at this point: e = 0.5240252068943185\n",
      "\n",
      "Current point: x = -5.651789879280944\n",
      "Gradient at the point: df = -0.4821031903428086\n",
      "New point: x = -5.169686688938135\n",
      "Error at this point: e = 0.4821031903428086\n",
      "\n",
      "Current point: x = -5.169686688938135\n",
      "Gradient at the point: df = -0.44353493511506414\n",
      "New point: x = -4.726151753823071\n",
      "Error at this point: e = 0.44353493511506414\n",
      "\n",
      "Current point: x = -4.726151753823071\n",
      "Gradient at the point: df = -0.40805214030603665\n",
      "New point: x = -4.318099613517035\n",
      "Error at this point: e = 0.40805214030603665\n",
      "\n",
      "Current point: x = -4.318099613517035\n",
      "Gradient at the point: df = -0.3754079690815315\n",
      "New point: x = -3.942691644435503\n",
      "Error at this point: e = 0.3754079690815315\n",
      "\n",
      "Current point: x = -3.942691644435503\n",
      "Gradient at the point: df = -0.34537533155476474\n",
      "New point: x = -3.5973163128807384\n",
      "Error at this point: e = 0.34537533155476474\n",
      "\n",
      "Current point: x = -3.5973163128807384\n",
      "Gradient at the point: df = -0.31774530503037024\n",
      "New point: x = -3.279571007850368\n",
      "Error at this point: e = 0.31774530503037024\n",
      "\n",
      "Current point: x = -3.279571007850368\n",
      "Gradient at the point: df = -0.2923256806279806\n",
      "New point: x = -2.9872453272223876\n",
      "Error at this point: e = 0.2923256806279806\n",
      "\n",
      "Current point: x = -2.9872453272223876\n",
      "Gradient at the point: df = -0.2689396261777999\n",
      "New point: x = -2.7183057010445877\n",
      "Error at this point: e = 0.2689396261777999\n",
      "\n",
      "Current point: x = -2.7183057010445877\n",
      "Gradient at the point: df = -0.2474244560836114\n",
      "New point: x = -2.4708812449609763\n",
      "Error at this point: e = 0.2474244560836114\n",
      "\n",
      "Current point: x = -2.4708812449609763\n",
      "Gradient at the point: df = -0.22763049959689807\n",
      "New point: x = -2.243250745364078\n",
      "Error at this point: e = 0.22763049959689807\n",
      "\n",
      "Current point: x = -2.243250745364078\n",
      "Gradient at the point: df = -0.20942005962909516\n",
      "New point: x = -2.033830685734983\n",
      "Error at this point: e = 0.20942005962909516\n",
      "\n",
      "Current point: x = -2.033830685734983\n",
      "Gradient at the point: df = -0.19266645485882528\n",
      "New point: x = -1.8411642308761578\n",
      "Error at this point: e = 0.19266645485882528\n",
      "\n",
      "Current point: x = -1.8411642308761578\n",
      "Gradient at the point: df = -0.17725313847008484\n",
      "New point: x = -1.663911092406073\n",
      "Error at this point: e = 0.17725313847008484\n",
      "\n",
      "Current point: x = -1.663911092406073\n",
      "Gradient at the point: df = -0.16307288739247916\n",
      "New point: x = -1.5008382050135938\n",
      "Error at this point: e = 0.16307288739247916\n",
      "\n",
      "Current point: x = -1.5008382050135938\n",
      "Gradient at the point: df = -0.15002705640107528\n",
      "New point: x = -1.3508111486125185\n",
      "Error at this point: e = 0.15002705640107528\n",
      "\n",
      "Current point: x = -1.3508111486125185\n",
      "Gradient at the point: df = -0.13802489188896594\n",
      "New point: x = -1.2127862567235526\n",
      "Error at this point: e = 0.13802489188896594\n",
      "\n",
      "Current point: x = -1.2127862567235526\n",
      "Gradient at the point: df = -0.12698290053783645\n",
      "New point: x = -1.085803356185716\n",
      "Error at this point: e = 0.12698290053783645\n",
      "\n",
      "Current point: x = -1.085803356185716\n",
      "Gradient at the point: df = -0.11682426849485283\n",
      "New point: x = -0.9689790876908633\n",
      "Error at this point: e = 0.11682426849485283\n",
      "\n",
      "Current point: x = -0.9689790876908633\n",
      "Gradient at the point: df = -0.10747832701527016\n",
      "New point: x = -0.8615007606755931\n",
      "Error at this point: e = 0.10747832701527016\n",
      "\n",
      "Current point: x = -0.8615007606755931\n",
      "Gradient at the point: df = -0.09888006085405354\n",
      "New point: x = -0.7626206998215396\n",
      "Error at this point: e = 0.09888006085405354\n",
      "\n",
      "Current point: x = -0.7626206998215396\n",
      "Gradient at the point: df = -0.09096965598572038\n",
      "New point: x = -0.6716510438358192\n",
      "Error at this point: e = 0.09096965598572038\n",
      "\n",
      "Current point: x = -0.6716510438358192\n",
      "Gradient at the point: df = -0.08369208350686441\n",
      "New point: x = -0.5879589603289548\n",
      "Error at this point: e = 0.08369208350686441\n",
      "\n",
      "Current point: x = -0.5879589603289548\n",
      "Gradient at the point: df = -0.07699671682631637\n",
      "New point: x = -0.5109622435026384\n",
      "Error at this point: e = 0.07699671682631637\n",
      "\n",
      "Current point: x = -0.5109622435026384\n",
      "Gradient at the point: df = -0.07083697948022383\n",
      "New point: x = -0.4401252640224146\n",
      "Error at this point: e = 0.07083697948022383\n",
      "\n",
      "Current point: x = -0.4401252640224146\n",
      "Gradient at the point: df = -0.0651700211217951\n",
      "New point: x = -0.3749552429006195\n",
      "Error at this point: e = 0.0651700211217951\n",
      "\n",
      "Current point: x = -0.3749552429006195\n",
      "Gradient at the point: df = -0.05995641943205149\n",
      "New point: x = -0.314998823468568\n",
      "Error at this point: e = 0.05995641943205149\n",
      "\n",
      "Current point: x = -0.314998823468568\n",
      "Gradient at the point: df = -0.055159905877483206\n",
      "New point: x = -0.2598389175910848\n",
      "Error at this point: e = 0.055159905877483206\n",
      "\n",
      "Current point: x = -0.2598389175910848\n",
      "Gradient at the point: df = -0.050747113407287325\n",
      "New point: x = -0.20909180418379747\n",
      "Error at this point: e = 0.050747113407287325\n",
      "\n",
      "Current point: x = -0.20909180418379747\n",
      "Gradient at the point: df = -0.04668734433470323\n",
      "New point: x = -0.16240445984909424\n",
      "Error at this point: e = 0.04668734433470323\n",
      "\n",
      "Current point: x = -0.16240445984909424\n",
      "Gradient at the point: df = -0.04295235678792447\n",
      "New point: x = -0.11945210306116977\n",
      "Error at this point: e = 0.04295235678792447\n",
      "\n",
      "Current point: x = -0.11945210306116977\n",
      "Gradient at the point: df = -0.03951616824489357\n",
      "New point: x = -0.0799359348162762\n",
      "Error at this point: e = 0.03951616824489357\n",
      "\n",
      "Current point: x = -0.0799359348162762\n",
      "Gradient at the point: df = -0.03635487478530208\n",
      "New point: x = -0.04358106003097412\n",
      "Error at this point: e = 0.03635487478530208\n",
      "\n",
      "Current point: x = -0.04358106003097412\n",
      "Gradient at the point: df = -0.03344648480247542\n",
      "New point: x = -0.010134575228498699\n",
      "Error at this point: e = 0.03344648480247542\n",
      "\n",
      "Current point: x = -0.010134575228498699\n",
      "Gradient at the point: df = -0.030770766018282936\n",
      "New point: x = 0.020636190789784237\n",
      "Error at this point: e = 0.030770766018282936\n",
      "\n",
      "Current point: x = 0.020636190789784237\n",
      "Gradient at the point: df = -0.02830910473682058\n",
      "New point: x = 0.048945295526604815\n",
      "Error at this point: e = 0.02830910473682058\n",
      "\n",
      "Current point: x = 0.048945295526604815\n",
      "Gradient at the point: df = -0.026044376357871324\n",
      "New point: x = 0.07498967188447614\n",
      "Error at this point: e = 0.026044376357871324\n",
      "\n",
      "Current point: x = 0.07498967188447614\n",
      "Gradient at the point: df = -0.02396082624923912\n",
      "New point: x = 0.09895049813371526\n",
      "Error at this point: e = 0.02396082624923912\n",
      "\n",
      "Current point: x = 0.09895049813371526\n",
      "Gradient at the point: df = -0.02204396014930665\n",
      "New point: x = 0.12099445828302191\n",
      "Error at this point: e = 0.02204396014930665\n",
      "\n",
      "Current point: x = 0.12099445828302191\n",
      "Gradient at the point: df = -0.0202804433373574\n",
      "New point: x = 0.1412749016203793\n",
      "Error at this point: e = 0.0202804433373574\n",
      "\n",
      "Current point: x = 0.1412749016203793\n",
      "Gradient at the point: df = -0.018658007870375748\n",
      "New point: x = 0.15993290949075506\n",
      "Error at this point: e = 0.018658007870375748\n",
      "\n",
      "Current point: x = 0.15993290949075506\n",
      "Gradient at the point: df = -0.0171653672407443\n",
      "New point: x = 0.17709827673149936\n",
      "Error at this point: e = 0.0171653672407443\n",
      "\n",
      "Current point: x = 0.17709827673149936\n",
      "Gradient at the point: df = -0.0157921378614867\n",
      "New point: x = 0.19289041459298606\n",
      "Error at this point: e = 0.0157921378614867\n",
      "\n",
      "Current point: x = 0.19289041459298606\n",
      "Gradient at the point: df = -0.01452876683256249\n",
      "New point: x = 0.20741918142554855\n",
      "Error at this point: e = 0.01452876683256249\n",
      "\n",
      "Current point: x = 0.20741918142554855\n",
      "Gradient at the point: df = -0.013366465485956103\n",
      "New point: x = 0.22078564691150465\n",
      "Error at this point: e = 0.013366465485956103\n",
      "\n",
      "Current point: x = 0.22078564691150465\n",
      "Gradient at the point: df = -0.012297148247082668\n",
      "New point: x = 0.23308279515858732\n",
      "Error at this point: e = 0.012297148247082668\n",
      "\n",
      "Current point: x = 0.23308279515858732\n",
      "Gradient at the point: df = -0.011313376387309115\n",
      "New point: x = 0.24439617154589643\n",
      "Error at this point: e = 0.011313376387309115\n",
      "\n",
      "Current point: x = 0.24439617154589643\n",
      "Gradient at the point: df = -0.0104083062763341\n",
      "New point: x = 0.25480447782223054\n",
      "Error at this point: e = 0.0104083062763341\n",
      "\n",
      "Current point: x = 0.25480447782223054\n",
      "Gradient at the point: df = -0.009575641774221821\n",
      "New point: x = 0.26438011959645236\n",
      "Error at this point: e = 0.009575641774221821\n",
      "\n",
      "Iterations: 101\n",
      "e  = 0.009575641774221821\n",
      "x* = [-500, -459.9700400012807, -423.1424768022407, -389.2611186593058, -358.0902691674055, -329.4130876356576, -303.03008062492154, -278.7577141757538, -256.4271370424649, -235.88300607980273, -216.98240559362603, -199.5938531460979, -183.59638489414465, -168.8787141024477, -155.33845697405013, -142.88142041607443, -131.42094678278227, -120.87731104008981, -111.17716615683548, -102.25303286426879, -94.04283023508242, -86.48944381621959, -79.54032831088398, -73.1471420459684, -67.26541068223924, -61.85421782763001, -56.87592040143841, -52.29588676934327, -48.082255827807785, -44.20571536159912, -40.63929813267464, -37.35819428206355, -34.33957873951243, -31.56245244036171, -29.00749624512855, -26.656936545514043, -24.494421621870544, -22.50490789212023, -20.674555260750793, -18.990630839891054, -17.441420372698246, -16.016146742881432, -14.704895003449181, -13.498543403173358, -12.388699930920843, -11.36764393644718, -10.428272421530771, -9.56405062780874, -8.76896657758408, -8.037489251377039, -7.364530111266809, -6.7454077023647585, -6.1758150861752625, -5.651789879280944, -5.169686688938135, -4.726151753823071, -4.318099613517035, -3.942691644435503, -3.5973163128807384, -3.279571007850368, -2.9872453272223876, -2.7183057010445877, -2.4708812449609763, -2.243250745364078, -2.033830685734983, -1.8411642308761578, -1.663911092406073, -1.5008382050135938, -1.3508111486125185, -1.2127862567235526, -1.085803356185716, -0.9689790876908633, -0.8615007606755931, -0.7626206998215396, -0.6716510438358192, -0.5879589603289548, -0.5109622435026384, -0.4401252640224146, -0.3749552429006195, -0.314998823468568, -0.2598389175910848, -0.20909180418379747, -0.16240445984909424, -0.11945210306116977, -0.0799359348162762, -0.04358106003097412, -0.010134575228498699, 0.020636190789784237, 0.048945295526604815, 0.07498967188447614, 0.09895049813371526, 0.12099445828302191, 0.1412749016203793, 0.15993290949075506, 0.17709827673149936, 0.19289041459298606, 0.20741918142554855, 0.22078564691150465, 0.23308279515858732, 0.24439617154589643, 0.25480447782223054, 0.26438011959645236]\n"
     ]
    }
   ],
   "source": [
    "e = math.inf\n",
    "eps = 0.01\n",
    "\n",
    "x0 = -500\n",
    "dx = 0.001\n",
    "\n",
    "learning_rate = 1\n",
    "\n",
    "# History per iterations\n",
    "x  = []\n",
    "df = []\n",
    "\n",
    "# Initialize\n",
    "x.append(x0)\n",
    "\n",
    "loop_counter = 0\n",
    "while e > eps:\n",
    "    loop_counter = loop_counter + 1\n",
    "    if loop_counter > 10000:\n",
    "        print(1)\n",
    "        break\n",
    "    \n",
    "    \n",
    "    df_now = f(x[-1] + dx) - f(x[-1]) \n",
    "    df_now = df_now / dx\n",
    "    df.append(df_now)\n",
    "    \n",
    "    print(\"Current point: x = {}\".format(x[-1]))\n",
    "    print(\"Gradient at the point: df = {}\".format(df[-1]))\n",
    "    \n",
    "    \n",
    "    new_x = x[-1] - learning_rate*df_now\n",
    "    x.append(new_x)\n",
    "    e = abs(x[-1] - x[-2])\n",
    "    \n",
    "    print(\"New point: x = {}\".format(new_x))\n",
    "    print(\"Error at this point: e = {}\".format(e))\n",
    "    print(\"\")\n",
    "    \n",
    "    \n",
    "    \n",
    "print(\"Iterations: {}\".format(loop_counter))\n",
    "print(\"e  = {}\".format(e))\n",
    "print(\"x* = {}\".format(x))\n",
    "        \n"
   ]
  },
  {
   "cell_type": "code",
   "execution_count": 275,
   "metadata": {},
   "outputs": [
    {
     "data": {
      "text/plain": [
       "-1.8199397588458677e-05"
      ]
     },
     "execution_count": 275,
     "metadata": {},
     "output_type": "execute_result"
    }
   ],
   "source": [
    "f(x[-1] + dx) - f(x[-1] - dx)"
   ]
  },
  {
   "cell_type": "code",
   "execution_count": 276,
   "metadata": {},
   "outputs": [
    {
     "data": {
      "text/plain": [
       "-30.049969999708992"
      ]
     },
     "execution_count": 276,
     "metadata": {},
     "output_type": "execute_result"
    }
   ],
   "source": [
    "(f(x0 + dx) - f(x0))/dx"
   ]
  },
  {
   "cell_type": "code",
   "execution_count": 211,
   "metadata": {},
   "outputs": [],
   "source": [
    "a = []\n",
    "a.append(x)"
   ]
  },
  {
   "cell_type": "code",
   "execution_count": 212,
   "metadata": {},
   "outputs": [
    {
     "data": {
      "text/plain": [
       "[-312644317773351.3]"
      ]
     },
     "execution_count": 212,
     "metadata": {},
     "output_type": "execute_result"
    }
   ],
   "source": [
    "a"
   ]
  },
  {
   "cell_type": "code",
   "execution_count": 216,
   "metadata": {},
   "outputs": [
    {
     "data": {
      "text/plain": [
       "[]"
      ]
     },
     "execution_count": 216,
     "metadata": {},
     "output_type": "execute_result"
    }
   ],
   "source": [
    "x"
   ]
  },
  {
   "cell_type": "code",
   "execution_count": 298,
   "metadata": {},
   "outputs": [
    {
     "name": "stdout",
     "output_type": "stream",
     "text": [
      "Minimum at 0.37494891978302747\n"
     ]
    }
   ],
   "source": [
    "dx = 0.0001\n",
    "\n",
    "df = lambda x: (f(x + dx) - f(x))/dx\n",
    "\n",
    "\n",
    "next_x = 0\n",
    "\n",
    "\n",
    "loop_counter = 0\n",
    "\n",
    "step = math.inf\n",
    "\n",
    "while step > 0.0000001:\n",
    "    loop_counter = loop_counter + 1\n",
    "    if loop_counter > 10000:\n",
    "        print(1)\n",
    "        break\n",
    "    x = next_x\n",
    "    next_x = x - learning_rate * df(x)\n",
    "    step = abs(x - next_x)\n",
    "    \n",
    "print(\"Minimum at\", next_x)"
   ]
  },
  {
   "cell_type": "code",
   "execution_count": 291,
   "metadata": {},
   "outputs": [
    {
     "data": {
      "text/plain": [
       "inf"
      ]
     },
     "execution_count": 291,
     "metadata": {},
     "output_type": "execute_result"
    }
   ],
   "source": [
    "math.inf"
   ]
  },
  {
   "cell_type": "code",
   "execution_count": 295,
   "metadata": {},
   "outputs": [
    {
     "data": {
      "text/plain": [
       "15"
      ]
     },
     "execution_count": 295,
     "metadata": {},
     "output_type": "execute_result"
    }
   ],
   "source": [
    "loop_counter"
   ]
  },
  {
   "cell_type": "code",
   "execution_count": 280,
   "metadata": {},
   "outputs": [
    {
     "data": {
      "text/plain": [
       "0.672501139228879"
      ]
     },
     "execution_count": 280,
     "metadata": {},
     "output_type": "execute_result"
    }
   ],
   "source": [
    "next_x"
   ]
  },
  {
   "cell_type": "code",
   "execution_count": 357,
   "metadata": {},
   "outputs": [],
   "source": [
    "dx = float(1e-6)\n",
    "learning_rate = 2\n",
    "df_calc = lambda x: (f(x + dx) - f(x))/dx\n",
    "\n",
    "\n",
    "x0 = -5\n",
    "\n",
    "tol = 1e-6\n",
    "\n",
    "x  = []\n",
    "df = []\n",
    "\n",
    "x.append(x0)\n",
    "\n",
    "loop_counter = 0\n",
    "diff = math.inf\n",
    "while diff > tol:\n",
    "    loop_counter = loop_counter + 1\n",
    "    if loop_counter > 10000:\n",
    "        break\n",
    "    df.append(df_calc(x[-1]))\n",
    "    x.append(x[-1] - learning_rate * df_calc(x[-1]))\n",
    "    diff = abs(x[-2] - x[-1])\n",
    "    \n",
    "    \n",
    "    \n"
   ]
  },
  {
   "cell_type": "code",
   "execution_count": 358,
   "metadata": {},
   "outputs": [
    {
     "data": {
      "text/plain": [
       "80"
      ]
     },
     "execution_count": 358,
     "metadata": {},
     "output_type": "execute_result"
    }
   ],
   "source": [
    "loop_counter"
   ]
  },
  {
   "cell_type": "code",
   "execution_count": 359,
   "metadata": {},
   "outputs": [
    {
     "data": {
      "text/plain": [
       "0.37499479325020957"
      ]
     },
     "execution_count": 359,
     "metadata": {},
     "output_type": "execute_result"
    }
   ],
   "source": [
    "x[-1]"
   ]
  },
  {
   "cell_type": "code",
   "execution_count": 360,
   "metadata": {},
   "outputs": [
    {
     "data": {
      "text/plain": [
       "1e-06"
      ]
     },
     "execution_count": 360,
     "metadata": {},
     "output_type": "execute_result"
    }
   ],
   "source": [
    "tol\n"
   ]
  },
  {
   "cell_type": "code",
   "execution_count": 344,
   "metadata": {},
   "outputs": [
    {
     "data": {
      "text/plain": [
       "0.3749994890495145"
      ]
     },
     "execution_count": 344,
     "metadata": {},
     "output_type": "execute_result"
    }
   ],
   "source": [
    "x[-1]"
   ]
  },
  {
   "cell_type": "code",
   "execution_count": 361,
   "metadata": {
    "scrolled": true
   },
   "outputs": [
    {
     "data": {
      "text/plain": [
       "[-5,\n",
       " -4.140000079833612,\n",
       " -3.4176001468494377,\n",
       " -2.8107842031338492,\n",
       " -2.3010588107946717,\n",
       " -1.8728894809144592,\n",
       " -1.5132272439771732,\n",
       " -1.2111109649276486,\n",
       " -0.9573332905526932,\n",
       " -0.7441600440533058,\n",
       " -0.5650945170360089,\n",
       " -0.414679474309283,\n",
       " -0.2883308384360417,\n",
       " -0.18219798429197187,\n",
       " -0.09304638679874078,\n",
       " -0.018159044915528888,\n",
       " 0.04474632226359354,\n",
       " 0.0975868307046035,\n",
       " 0.14197285779449675,\n",
       " 0.1792571205411253,\n",
       " 0.21057590126272618,\n",
       " 0.2368836770538829,\n",
       " 0.2589822087251159,\n",
       " 0.27754497532673117,\n",
       " 0.293137699272088,\n",
       " 0.3062355873934042,\n",
       " 0.3172378134125342,\n",
       " 0.32647968326527277,\n",
       " 0.33424285394101805,\n",
       " 0.34076391731086453,\n",
       " 0.34624161055430314,\n",
       " 0.350842872856032,\n",
       " 0.3547079331972558,\n",
       " 0.35795458389554113,\n",
       " 0.36068177046933325,\n",
       " 0.3629726071841022,\n",
       " 0.3648969100400512,\n",
       " 0.3665133244312768,\n",
       " 0.3678711125215717,\n",
       " 0.369011654515754,\n",
       " 0.36996970978975696,\n",
       " 0.3707744762238052,\n",
       " 0.37145048003229153,\n",
       " 0.372018323221428,\n",
       " 0.37249531150363335,\n",
       " 0.37289598166734717,\n",
       " 0.3732325445976503,\n",
       " 0.3735152574507783,\n",
       " 0.37375273626516936,\n",
       " 0.37395221845982096,\n",
       " 0.37411978351887143,\n",
       " 0.3742605381490449,\n",
       " 0.37437877204394177,\n",
       " 0.3744780885156551,\n",
       " 0.3745615143513392,\n",
       " 0.374631592058865,\n",
       " 0.3746904573326315,\n",
       " 0.3747399041681465,\n",
       " 0.3747814394988769,\n",
       " 0.3748163291872375,\n",
       " 0.37484563652157465,\n",
       " 0.37487025467631163,\n",
       " 0.3748909339262907,\n",
       " 0.37490830450348955,\n",
       " 0.37492289577612414,\n",
       " 0.37493515245790476,\n",
       " 0.37494544806949026,\n",
       " 0.3749540963737852,\n",
       " 0.37496136096549115,\n",
       " 0.3749674632092015,\n",
       " 0.3749725890950284,\n",
       " 0.3749768948452292,\n",
       " 0.3749805116742877,\n",
       " 0.3749835497995946,\n",
       " 0.3749861018276279,\n",
       " 0.3749882455433884,\n",
       " 0.3749900462557454,\n",
       " 0.3749915588513497,\n",
       " 0.37499282943221246,\n",
       " 0.3749938967312394,\n",
       " 0.37499479325020957]"
      ]
     },
     "execution_count": 361,
     "metadata": {},
     "output_type": "execute_result"
    }
   ],
   "source": [
    "x"
   ]
  },
  {
   "cell_type": "code",
   "execution_count": 365,
   "metadata": {},
   "outputs": [],
   "source": [
    "f = lambda u: u[0]**2 + u[1]**2"
   ]
  },
  {
   "cell_type": "code",
   "execution_count": 367,
   "metadata": {},
   "outputs": [
    {
     "data": {
      "text/plain": [
       "0"
      ]
     },
     "execution_count": 367,
     "metadata": {},
     "output_type": "execute_result"
    }
   ],
   "source": [
    "f([0,0])"
   ]
  },
  {
   "cell_type": "code",
   "execution_count": 412,
   "metadata": {},
   "outputs": [],
   "source": []
  },
  {
   "cell_type": "code",
   "execution_count": 399,
   "metadata": {},
   "outputs": [
    {
     "data": {
      "text/plain": [
       "[2.0009999999999195, 2.0009999999999195]"
      ]
     },
     "execution_count": 399,
     "metadata": {},
     "output_type": "execute_result"
    }
   ],
   "source": [
    "df(f, [1,1])"
   ]
  },
  {
   "cell_type": "code",
   "execution_count": 377,
   "metadata": {},
   "outputs": [],
   "source": [
    "u = [0,1]\n",
    "step = 0.5"
   ]
  },
  {
   "cell_type": "code",
   "execution_count": 378,
   "metadata": {},
   "outputs": [
    {
     "name": "stdout",
     "output_type": "stream",
     "text": [
      "[0.5, 1]\n",
      "[0.5, 1.5]\n"
     ]
    }
   ],
   "source": [
    "for i in range(len(u)):\n",
    "    new_u = u\n",
    "    new_u[i] = new_u[i] + step\n",
    "    print(new_u)\n",
    "    \n",
    "    "
   ]
  },
  {
   "cell_type": "code",
   "execution_count": 487,
   "metadata": {
    "scrolled": false
   },
   "outputs": [],
   "source": [
    "def calc_df(f, u, step=float(1e-6)):\n",
    "    \n",
    "    d = []\n",
    "    \n",
    "    for i, _ in enumerate(u):\n",
    "        v = [x for x in u]\n",
    "        v[i] = v[i] + step\n",
    "        derivative = f(v) - f(u)\n",
    "        derivative = derivative / step\n",
    "        d.append(derivative)\n",
    "        \n",
    "    return d\n",
    "    \n",
    "    \n",
    "\n",
    "def calc_diff(u,v):\n",
    "    if len(u) == 1:\n",
    "        return abs(u-v)\n",
    "    \n",
    "    acc = 0\n",
    "    for x in zip(u,v):\n",
    "        acc = acc + (x[1] - x[0])**2\n",
    "        \n",
    "    return acc ** (1/2)\n",
    "    \n",
    "    \n",
    "\n",
    "# Experiment for f(x,y) = x**2 + y**2\n",
    "\n",
    "\n",
    "f = lambda u: u[0]**2 + u[1]**2\n",
    "\n",
    "\n",
    "learning_rate = 0.1\n",
    "\n",
    "\n",
    "x0 = [-1, 5]\n",
    "\n",
    "tol = 1e-6\n",
    "\n",
    "x  = []\n",
    "df = []\n",
    "\n",
    "x.append(x0)\n",
    "df.append(math.inf)\n",
    "loop_counter = 0\n",
    "diff = math.inf\n",
    "while diff > tol:\n",
    "    loop_counter = loop_counter + 1\n",
    "    if loop_counter > 10000:\n",
    "        break\n",
    "        \n",
    "    new_df = calc_df(f, x[-1])\n",
    "    new_x  = [x[-1][i] - learning_rate*new_df[i] for i in range(len(x[-1]))]\n",
    "    \n",
    "    df.append(new_df)\n",
    "    x.append(new_x)\n",
    "    \n",
    "    diff = calc_diff(x[-2], x[-1])\n",
    "    \n",
    "    "
   ]
  },
  {
   "cell_type": "code",
   "execution_count": 488,
   "metadata": {
    "scrolled": true
   },
   "outputs": [
    {
     "data": {
      "text/plain": [
       "[-1.127709859478127e-06, 2.6385511809792683e-06]"
      ]
     },
     "execution_count": 488,
     "metadata": {},
     "output_type": "execute_result"
    }
   ],
   "source": [
    "x[-1]"
   ]
  },
  {
   "cell_type": "code",
   "execution_count": 486,
   "metadata": {},
   "outputs": [
    {
     "ename": "TypeError",
     "evalue": "'list' object cannot be interpreted as an integer",
     "output_type": "error",
     "traceback": [
      "\u001b[0;31m---------------------------------------------------------------------------\u001b[0m",
      "\u001b[0;31mTypeError\u001b[0m                                 Traceback (most recent call last)",
      "\u001b[0;32m<ipython-input-486-9a219a87931e>\u001b[0m in \u001b[0;36m<module>\u001b[0;34m()\u001b[0m\n\u001b[0;32m----> 1\u001b[0;31m \u001b[0;34m[\u001b[0m\u001b[0mx\u001b[0m\u001b[0;34m[\u001b[0m\u001b[0;34m-\u001b[0m\u001b[0;36m1\u001b[0m\u001b[0;34m]\u001b[0m\u001b[0;34m[\u001b[0m\u001b[0mi\u001b[0m\u001b[0;34m]\u001b[0m \u001b[0;34m-\u001b[0m \u001b[0mlearning_rate\u001b[0m\u001b[0;34m*\u001b[0m\u001b[0mnew_df\u001b[0m\u001b[0;34m[\u001b[0m\u001b[0mi\u001b[0m\u001b[0;34m]\u001b[0m \u001b[0;32mfor\u001b[0m \u001b[0mi\u001b[0m \u001b[0;32min\u001b[0m \u001b[0mrange\u001b[0m\u001b[0;34m(\u001b[0m\u001b[0mx\u001b[0m\u001b[0;34m[\u001b[0m\u001b[0;34m-\u001b[0m\u001b[0;36m1\u001b[0m\u001b[0;34m]\u001b[0m\u001b[0;34m)\u001b[0m\u001b[0;34m]\u001b[0m\u001b[0;34m\u001b[0m\u001b[0;34m\u001b[0m\u001b[0m\n\u001b[0m",
      "\u001b[0;31mTypeError\u001b[0m: 'list' object cannot be interpreted as an integer"
     ]
    }
   ],
   "source": [
    "[x[-1][i] - learning_rate*new_df[i] for i in range(x[-1])]"
   ]
  },
  {
   "cell_type": "code",
   "execution_count": 478,
   "metadata": {},
   "outputs": [
    {
     "data": {
      "text/plain": [
       "[1e-06, 1e-06]"
      ]
     },
     "execution_count": 478,
     "metadata": {},
     "output_type": "execute_result"
    }
   ],
   "source": [
    "calc_df(f, [0,0])"
   ]
  },
  {
   "cell_type": "code",
   "execution_count": 480,
   "metadata": {},
   "outputs": [
    {
     "data": {
      "text/plain": [
       "[2.0000009999243673, 2.0000009999243673]"
      ]
     },
     "execution_count": 480,
     "metadata": {},
     "output_type": "execute_result"
    }
   ],
   "source": [
    "calc_df(f, [1,1])"
   ]
  },
  {
   "cell_type": "code",
   "execution_count": 481,
   "metadata": {},
   "outputs": [
    {
     "data": {
      "text/plain": [
       "[-1.9999990001906554, 2.0000009999243673]"
      ]
     },
     "execution_count": 481,
     "metadata": {},
     "output_type": "execute_result"
    }
   ],
   "source": [
    "calc_df(f, [-1,1])"
   ]
  },
  {
   "cell_type": "code",
   "execution_count": 494,
   "metadata": {},
   "outputs": [],
   "source": [
    "def calc_df(f, u, step=float(1e-6)):\n",
    "    d = []\n",
    "    for i, _ in enumerate(u):\n",
    "        v = [x for x in u]\n",
    "        v[i] = v[i] + step\n",
    "        derivative = f(v) - f(u)\n",
    "        derivative = derivative / step\n",
    "        d.append(derivative)        \n",
    "    return d\n",
    "    \n",
    "    \n",
    "\n",
    "def calc_diff(u,v):\n",
    "    if len(u) == 1:\n",
    "        return abs(u-v)\n",
    "    acc = 0\n",
    "    for x in zip(u,v):\n",
    "        acc = acc + (x[1] - x[0])**2\n",
    "    return acc ** (1/2)\n",
    "\n",
    "\n",
    "def find_minimum(f, x0, learning_rate=0.1, max_iterations=10000, tol=1e-6):\n",
    "    \n",
    "    x  = []\n",
    "    df = []\n",
    "\n",
    "    x.append(x0)\n",
    "    df.append(math.inf)\n",
    "    loop_counter = 0\n",
    "    diff = math.inf\n",
    "    while diff > tol:\n",
    "        loop_counter = loop_counter + 1\n",
    "        if loop_counter > 10000:\n",
    "            break\n",
    "\n",
    "        new_df = calc_df(f, x[-1])\n",
    "        new_x  = [x[-1][i] - learning_rate*new_df[i] for i in range(len(x[-1]))]\n",
    "\n",
    "        df.append(new_df)\n",
    "        x.append(new_x)\n",
    "\n",
    "        diff = calc_diff(x[-2], x[-1])\n",
    "    \n",
    "    return {\n",
    "        \"x\": x,\n",
    "        \"df\": df,\n",
    "        \"loop_counter\": loop_counter\n",
    "    }"
   ]
  },
  {
   "cell_type": "code",
   "execution_count": 497,
   "metadata": {},
   "outputs": [
    {
     "data": {
      "text/plain": [
       "[3.1779899110628975e-06, 1.1299882945162842e-07]"
      ]
     },
     "execution_count": 497,
     "metadata": {},
     "output_type": "execute_result"
    }
   ],
   "source": [
    "find_minimum(f, [3, 0.5])['x'][-1]"
   ]
  },
  {
   "cell_type": "code",
   "execution_count": null,
   "metadata": {},
   "outputs": [],
   "source": []
  },
  {
   "cell_type": "code",
   "execution_count": null,
   "metadata": {},
   "outputs": [],
   "source": []
  }
 ],
 "metadata": {
  "kernelspec": {
   "display_name": "Python 3",
   "language": "python",
   "name": "python3"
  },
  "language_info": {
   "codemirror_mode": {
    "name": "ipython",
    "version": 3
   },
   "file_extension": ".py",
   "mimetype": "text/x-python",
   "name": "python",
   "nbconvert_exporter": "python",
   "pygments_lexer": "ipython3",
   "version": "3.6.8"
  }
 },
 "nbformat": 4,
 "nbformat_minor": 2
}
